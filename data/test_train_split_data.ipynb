{
 "cells": [
  {
   "cell_type": "markdown",
   "id": "a6a0301e-0364-442f-a5c6-a9cba0ecffca",
   "metadata": {},
   "source": [
    "## Test Train Splitting the LTS data\n",
    "once we are done with EDA, we must test-train split the data before doing anything else. <br>\n",
    "we want to do this while retaining class imbalances, and we neeed to decide whether we will use every road or only those with intersection volumes! <br>\n",
    "(see eda_intersection_volume right after we merge the two datasets)"
   ]
  },
  {
   "cell_type": "code",
   "execution_count": null,
   "id": "c7513642-627d-4339-b3c9-b475004e8d7a",
   "metadata": {},
   "outputs": [],
   "source": []
  }
 ],
 "metadata": {
  "kernelspec": {
   "display_name": "Python 3 (ipykernel)",
   "language": "python",
   "name": "python3"
  },
  "language_info": {
   "codemirror_mode": {
    "name": "ipython",
    "version": 3
   },
   "file_extension": ".py",
   "mimetype": "text/x-python",
   "name": "python",
   "nbconvert_exporter": "python",
   "pygments_lexer": "ipython3",
   "version": "3.9.7"
  }
 },
 "nbformat": 4,
 "nbformat_minor": 5
}
