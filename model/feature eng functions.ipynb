{
 "cells": [
  {
   "cell_type": "markdown",
   "id": "578d8db6-96d3-4b0e-bf18-42458d63287c",
   "metadata": {},
   "source": [
    "### Feature Engineering and Data Processing 2022-03\n",
    "This file is for R&D of features for the model. Features should be created using functions that can then be cut and paste into the model_functions.py file to be imported into the final model .ipynb file.\n",
    "\n",
    "We should split our data before we do any of this! (before splitting, need expand the intersections data to every road, or just use the direct adjacant values)."
   ]
  },
  {
   "cell_type": "code",
   "execution_count": 2,
   "id": "2128bfb6-9fde-4a9c-9577-3b26cdf1da5c",
   "metadata": {},
   "outputs": [],
   "source": [
    "# Import 3rd party libraries\n",
    "import os\n",
    "import json\n",
    "import requests\n",
    "import numpy as np\n",
    "import pandas as pd\n",
    "import seaborn as sns\n",
    "import geopandas as gpd\n",
    "import matplotlib.pyplot as plt\n",
    "\n",
    "# Configure Notebook\n",
    "%matplotlib inline\n",
    "plt.style.use('dark_background')\n",
    "#plt.style.use('ggplot')\n",
    "sns.set_context(\"notebook\")\n",
    "import warnings\n",
    "warnings.filterwarnings('ignore')"
   ]
  },
  {
   "cell_type": "markdown",
   "id": "585316c6-ed50-4657-88fa-a191c24ba44a",
   "metadata": {},
   "source": [
    "#### Import the train data (LTS data + intersections, neighbourhoods ...)"
   ]
  },
  {
   "cell_type": "markdown",
   "id": "0c0ef44b-74ec-49f2-b1bb-7228e4a19fc5",
   "metadata": {},
   "source": [
    "#### Data Processing"
   ]
  },
  {
   "cell_type": "markdown",
   "id": "4b8476b9-9cd6-4429-87c6-15e6f493bac2",
   "metadata": {},
   "source": [
    "Create a function that drops outliers..."
   ]
  },
  {
   "cell_type": "code",
   "execution_count": null,
   "id": "f1e60422-ff5a-40f2-b83d-9153d82415e1",
   "metadata": {},
   "outputs": [],
   "source": []
  }
 ],
 "metadata": {
  "kernelspec": {
   "display_name": "Python 3 (ipykernel)",
   "language": "python",
   "name": "python3"
  },
  "language_info": {
   "codemirror_mode": {
    "name": "ipython",
    "version": 3
   },
   "file_extension": ".py",
   "mimetype": "text/x-python",
   "name": "python",
   "nbconvert_exporter": "python",
   "pygments_lexer": "ipython3",
   "version": "3.9.7"
  }
 },
 "nbformat": 4,
 "nbformat_minor": 5
}
