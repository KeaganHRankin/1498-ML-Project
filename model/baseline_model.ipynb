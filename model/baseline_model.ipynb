{
 "cells": [
  {
   "cell_type": "markdown",
   "id": "525c4ab1-67be-4112-8ca1-f73d19cf24c8",
   "metadata": {},
   "source": [
    "### Initial Classifier 2022-03\n",
    "This file processes data, creates features, trains and finally tests our initial model for classifying road LTS in Toronto.\n",
    "All functions are stored in a seperate python file within the folder"
   ]
  },
  {
   "cell_type": "code",
   "execution_count": 1,
   "id": "2de36214-b413-4850-8519-ac320b9f0f87",
   "metadata": {},
   "outputs": [],
   "source": [
    "#Import all packages from model functions\n",
    "from model_functions import *"
   ]
  },
  {
   "cell_type": "markdown",
   "id": "363ecb2b-f345-4af3-a745-e33b64959cb2",
   "metadata": {},
   "source": [
    "Import the data, Test-Train Split"
   ]
  },
  {
   "cell_type": "code",
   "execution_count": 6,
   "id": "4bc66785-7cb5-445b-ae64-b30f2c0d5275",
   "metadata": {},
   "outputs": [],
   "source": [
    "full_data = pd.read_csv('C:/Users/Keagan Rankin/Documents/PycharmProj/data/clean_data/10m_buffer_intersections_only.csv')\n",
    "full_data.head()\n",
    "\n",
    "train, test = train_test_split(full_data, test_size=0.2, stratify=full_data['LTS'])"
   ]
  },
  {
   "cell_type": "markdown",
   "id": "50a0570c-3beb-4dd9-adcc-555e9fc2435e",
   "metadata": {},
   "source": [
    "Clean data and create features"
   ]
  },
  {
   "cell_type": "code",
   "execution_count": null,
   "id": "10ae2b22-4837-4947-9978-43df0b6ba99f",
   "metadata": {},
   "outputs": [],
   "source": []
  },
  {
   "cell_type": "code",
   "execution_count": null,
   "id": "b86da4e2-a9b9-43ea-826b-8a8b7ea696e4",
   "metadata": {},
   "outputs": [],
   "source": []
  }
 ],
 "metadata": {
  "kernelspec": {
   "display_name": "Python 3 (ipykernel)",
   "language": "python",
   "name": "python3"
  },
  "language_info": {
   "codemirror_mode": {
    "name": "ipython",
    "version": 3
   },
   "file_extension": ".py",
   "mimetype": "text/x-python",
   "name": "python",
   "nbconvert_exporter": "python",
   "pygments_lexer": "ipython3",
   "version": "3.9.7"
  }
 },
 "nbformat": 4,
 "nbformat_minor": 5
}
